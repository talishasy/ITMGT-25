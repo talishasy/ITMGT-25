{
 "cells": [
  {
   "cell_type": "code",
   "execution_count": 1,
   "id": "5c772413-ed89-438f-a8d5-6c80d422344f",
   "metadata": {},
   "outputs": [
    {
     "name": "stdout",
     "output_type": "stream",
     "text": [
      "     Timestamp  Longitude Latitude\n",
      "0   1657852574  -115.3487  21.6753\n",
      "1   1657852585  -114.8803  22.2057\n",
      "2   1657852595  -114.4297  22.7102\n",
      "3   1657852606  -113.9755  23.2131\n",
      "4   1657852616  -113.5176  23.7145\n",
      "..         ...        ...      ...\n",
      "95  1657853611   -39.6082  51.3138\n",
      "96  1657853622   -38.5725  51.2300\n",
      "97  1657853633   -37.4921  51.1317\n",
      "98  1657853643   -36.4654  51.0278\n",
      "99  1657853654   -35.4439  50.9142\n",
      "\n",
      "[100 rows x 3 columns]\n"
     ]
    }
   ],
   "source": [
    "import matplotlib.pyplot as plt\n",
    "import requests\n",
    "import pandas as pd\n",
    "import time\n",
    "import json\n",
    "\n",
    "data = []\n",
    "\n",
    "for i in range(0,100):\n",
    "    response = requests.get('http://api.open-notify.org/iss-now.json')\n",
    "    text = response.text\n",
    "    ans = json.loads(text)\n",
    "    \n",
    "    data.append((ans['timestamp'], ans['iss_position']['longitude'], ans['iss_position']['latitude']))\n",
    "    time.sleep(10)\n",
    "    \n",
    "df = pd.DataFrame(data, columns = ['Timestamp', 'Longitude', 'Latitude'])\n",
    "print(df)"
   ]
  },
  {
   "cell_type": "code",
   "execution_count": 2,
   "id": "9e31ffe9-4186-41e2-ac2f-f5f1fb27c4c9",
   "metadata": {},
   "outputs": [],
   "source": [
    "df.to_csv('iss-data.csv')"
   ]
  },
  {
   "cell_type": "code",
   "execution_count": 3,
   "id": "4e8471dc-4bc9-42b9-9a61-6d3dbf05900f",
   "metadata": {},
   "outputs": [],
   "source": [
    "df=pd.read_csv('iss-data.csv')"
   ]
  },
  {
   "cell_type": "code",
   "execution_count": 4,
   "id": "c5615779-a56b-4dc4-a043-1f176bb047f7",
   "metadata": {},
   "outputs": [
    {
     "data": {
      "text/html": [
       "<div>\n",
       "<style scoped>\n",
       "    .dataframe tbody tr th:only-of-type {\n",
       "        vertical-align: middle;\n",
       "    }\n",
       "\n",
       "    .dataframe tbody tr th {\n",
       "        vertical-align: top;\n",
       "    }\n",
       "\n",
       "    .dataframe thead th {\n",
       "        text-align: right;\n",
       "    }\n",
       "</style>\n",
       "<table border=\"1\" class=\"dataframe\">\n",
       "  <thead>\n",
       "    <tr style=\"text-align: right;\">\n",
       "      <th></th>\n",
       "      <th>Unnamed: 0</th>\n",
       "      <th>Timestamp</th>\n",
       "      <th>Longitude</th>\n",
       "      <th>Latitude</th>\n",
       "    </tr>\n",
       "  </thead>\n",
       "  <tbody>\n",
       "    <tr>\n",
       "      <th>0</th>\n",
       "      <td>0</td>\n",
       "      <td>1657852574</td>\n",
       "      <td>-115.3487</td>\n",
       "      <td>21.6753</td>\n",
       "    </tr>\n",
       "    <tr>\n",
       "      <th>1</th>\n",
       "      <td>1</td>\n",
       "      <td>1657852585</td>\n",
       "      <td>-114.8803</td>\n",
       "      <td>22.2057</td>\n",
       "    </tr>\n",
       "    <tr>\n",
       "      <th>2</th>\n",
       "      <td>2</td>\n",
       "      <td>1657852595</td>\n",
       "      <td>-114.4297</td>\n",
       "      <td>22.7102</td>\n",
       "    </tr>\n",
       "    <tr>\n",
       "      <th>3</th>\n",
       "      <td>3</td>\n",
       "      <td>1657852606</td>\n",
       "      <td>-113.9755</td>\n",
       "      <td>23.2131</td>\n",
       "    </tr>\n",
       "    <tr>\n",
       "      <th>4</th>\n",
       "      <td>4</td>\n",
       "      <td>1657852616</td>\n",
       "      <td>-113.5176</td>\n",
       "      <td>23.7145</td>\n",
       "    </tr>\n",
       "    <tr>\n",
       "      <th>...</th>\n",
       "      <td>...</td>\n",
       "      <td>...</td>\n",
       "      <td>...</td>\n",
       "      <td>...</td>\n",
       "    </tr>\n",
       "    <tr>\n",
       "      <th>95</th>\n",
       "      <td>95</td>\n",
       "      <td>1657853611</td>\n",
       "      <td>-39.6082</td>\n",
       "      <td>51.3138</td>\n",
       "    </tr>\n",
       "    <tr>\n",
       "      <th>96</th>\n",
       "      <td>96</td>\n",
       "      <td>1657853622</td>\n",
       "      <td>-38.5725</td>\n",
       "      <td>51.2300</td>\n",
       "    </tr>\n",
       "    <tr>\n",
       "      <th>97</th>\n",
       "      <td>97</td>\n",
       "      <td>1657853633</td>\n",
       "      <td>-37.4921</td>\n",
       "      <td>51.1317</td>\n",
       "    </tr>\n",
       "    <tr>\n",
       "      <th>98</th>\n",
       "      <td>98</td>\n",
       "      <td>1657853643</td>\n",
       "      <td>-36.4654</td>\n",
       "      <td>51.0278</td>\n",
       "    </tr>\n",
       "    <tr>\n",
       "      <th>99</th>\n",
       "      <td>99</td>\n",
       "      <td>1657853654</td>\n",
       "      <td>-35.4439</td>\n",
       "      <td>50.9142</td>\n",
       "    </tr>\n",
       "  </tbody>\n",
       "</table>\n",
       "<p>100 rows × 4 columns</p>\n",
       "</div>"
      ],
      "text/plain": [
       "    Unnamed: 0   Timestamp  Longitude  Latitude\n",
       "0            0  1657852574  -115.3487   21.6753\n",
       "1            1  1657852585  -114.8803   22.2057\n",
       "2            2  1657852595  -114.4297   22.7102\n",
       "3            3  1657852606  -113.9755   23.2131\n",
       "4            4  1657852616  -113.5176   23.7145\n",
       "..         ...         ...        ...       ...\n",
       "95          95  1657853611   -39.6082   51.3138\n",
       "96          96  1657853622   -38.5725   51.2300\n",
       "97          97  1657853633   -37.4921   51.1317\n",
       "98          98  1657853643   -36.4654   51.0278\n",
       "99          99  1657853654   -35.4439   50.9142\n",
       "\n",
       "[100 rows x 4 columns]"
      ]
     },
     "execution_count": 4,
     "metadata": {},
     "output_type": "execute_result"
    }
   ],
   "source": [
    "df"
   ]
  },
  {
   "cell_type": "code",
   "execution_count": 5,
   "id": "d067613b-bc9e-463e-b62c-ab0640caedd5",
   "metadata": {},
   "outputs": [
    {
     "data": {
      "text/plain": [
       "0    -115.3487\n",
       "1    -114.8803\n",
       "2    -114.4297\n",
       "3    -113.9755\n",
       "4    -113.5176\n",
       "        ...   \n",
       "95    -39.6082\n",
       "96    -38.5725\n",
       "97    -37.4921\n",
       "98    -36.4654\n",
       "99    -35.4439\n",
       "Name: Longitude, Length: 100, dtype: float64"
      ]
     },
     "execution_count": 5,
     "metadata": {},
     "output_type": "execute_result"
    }
   ],
   "source": [
    "x = df['Longitude']\n",
    "x"
   ]
  },
  {
   "cell_type": "code",
   "execution_count": 6,
   "id": "afa429fb-06d5-4e9f-b6f3-62bc79ba3cea",
   "metadata": {},
   "outputs": [
    {
     "data": {
      "text/plain": [
       "0     21.6753\n",
       "1     22.2057\n",
       "2     22.7102\n",
       "3     23.2131\n",
       "4     23.7145\n",
       "       ...   \n",
       "95    51.3138\n",
       "96    51.2300\n",
       "97    51.1317\n",
       "98    51.0278\n",
       "99    50.9142\n",
       "Name: Latitude, Length: 100, dtype: float64"
      ]
     },
     "execution_count": 6,
     "metadata": {},
     "output_type": "execute_result"
    }
   ],
   "source": [
    "y = df['Latitude']\n",
    "y"
   ]
  },
  {
   "cell_type": "code",
   "execution_count": 7,
   "id": "c186ed96-7c25-4d0f-8a77-926ba1863623",
   "metadata": {},
   "outputs": [
    {
     "data": {
      "image/png": "[encoded data removed]",
      "text/plain": [
       "<Figure size 432x288 with 1 Axes>"
      ]
     },
     "metadata": {
      "needs_background": "light"
     },
     "output_type": "display_data"
    }
   ],
   "source": [
    "plt.plot(x, y, 'm')\n",
    "plt.xlabel('Longitude')\n",
    "plt.ylabel('Latitude')\n",
    "plt.title('ISS Path')\n",
    "plt.show()"
   ]
  },
  {
   "cell_type": "code",
   "execution_count": null,
   "id": "28bad96e-fbeb-4abe-81fc-f8f9832f5a67",
   "metadata": {},
   "outputs": [],
   "source": []
  }
 ],
 "metadata": {
  "kernelspec": {
   "display_name": "Python 3 (ipykernel)",
   "language": "python",
   "name": "python3"
  },
  "language_info": {
   "codemirror_mode": {
    "name": "ipython",
    "version": 3
   },
   "file_extension": ".py",
   "mimetype": "text/x-python",
   "name": "python",
   "nbconvert_exporter": "python",
   "pygments_lexer": "ipython3",
   "version": "3.9.12"
  }
 },
 "nbformat": 4,
 "nbformat_minor": 5
}
